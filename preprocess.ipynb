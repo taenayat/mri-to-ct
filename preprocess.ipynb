{
 "cells": [
  {
   "cell_type": "markdown",
   "metadata": {},
   "source": [
    "In this code the goal is to build a pipeline to create preprocess the mri images"
   ]
  },
  {
   "cell_type": "code",
   "execution_count": 2,
   "metadata": {},
   "outputs": [],
   "source": [
    "import SimpleITK as sitk\n",
    "import numpy as np\n",
    "import os"
   ]
  },
  {
   "cell_type": "code",
   "execution_count": 3,
   "metadata": {},
   "outputs": [],
   "source": [
    "DATA_PARENT_DIR = '../Task1/brain/'\n",
    "dataset_dir = [os.path.join(DATA_PARENT_DIR, mri_path, 'mr.nii.gz') for mri_path in os.listdir(DATA_PARENT_DIR)]\n",
    "mask_dir = [os.path.join(DATA_PARENT_DIR, mri_path, 'mask.nii.gz') for mri_path in os.listdir(DATA_PARENT_DIR)]\n",
    "category = [dataset_dir[i].split('/')[-2][2] for i in range(len(dataset_dir))]"
   ]
  },
  {
   "cell_type": "markdown",
   "metadata": {},
   "source": [
    "## BBox"
   ]
  },
  {
   "cell_type": "code",
   "execution_count": 5,
   "metadata": {},
   "outputs": [],
   "source": [
    "def get_bbox(image):\n",
    "    bbox=[]\n",
    "\n",
    "    labelimfilter=sitk.LabelShapeStatisticsImageFilter()\n",
    "    labelimfilter.Execute(image)\n",
    "    for i in range(1,labelimfilter.GetNumberOfLabels()+1):\n",
    "        box=labelimfilter.GetBoundingBox(i)\n",
    "        bbox.append(box)\n",
    "\n",
    "    if len(bbox) == 0:\n",
    "        return None\n",
    "    else:\n",
    "        return bbox[0]\n"
   ]
  },
  {
   "cell_type": "code",
   "execution_count": 21,
   "metadata": {},
   "outputs": [
    {
     "data": {
      "text/plain": [
       "((10, 10, 0, 193, 227, 181), (212, 246, 181))"
      ]
     },
     "execution_count": 21,
     "metadata": {},
     "output_type": "execute_result"
    }
   ],
   "source": [
    "image_sitk = sitk.ReadImage(dataset_dir[0])\n",
    "image = sitk.GetArrayFromImage(image_sitk)\n",
    "# mask = sitk.GetArrayFromImage(sitk.ReadImage(mask_dir[0]))\n",
    "mask = sitk.ReadImage(mask_dir[0])\n",
    "# get_bbox(mask)\n",
    "labelimfilter=sitk.LabelShapeStatisticsImageFilter()\n",
    "labelimfilter.Execute(mask)\n",
    "labelimfilter.GetNumberOfLabels()\n",
    "labelimfilter.GetBoundingBox(1), image_sitk.GetSize()\n"
   ]
  },
  {
   "cell_type": "code",
   "execution_count": 11,
   "metadata": {},
   "outputs": [
    {
     "ename": "NameError",
     "evalue": "name 'mask' is not defined",
     "output_type": "error",
     "traceback": [
      "\u001b[0;31m---------------------------------------------------------------------------\u001b[0m",
      "\u001b[0;31mNameError\u001b[0m                                 Traceback (most recent call last)",
      "Cell \u001b[0;32mIn[11], line 1\u001b[0m\n\u001b[0;32m----> 1\u001b[0m \u001b[43mmask\u001b[49m\n",
      "\u001b[0;31mNameError\u001b[0m: name 'mask' is not defined"
     ]
    }
   ],
   "source": [
    "mask"
   ]
  },
  {
   "cell_type": "code",
   "execution_count": null,
   "metadata": {},
   "outputs": [],
   "source": []
  }
 ],
 "metadata": {
  "kernelspec": {
   "display_name": "venv",
   "language": "python",
   "name": "python3"
  },
  "language_info": {
   "codemirror_mode": {
    "name": "ipython",
    "version": 3
   },
   "file_extension": ".py",
   "mimetype": "text/x-python",
   "name": "python",
   "nbconvert_exporter": "python",
   "pygments_lexer": "ipython3",
   "version": "3.8.10"
  }
 },
 "nbformat": 4,
 "nbformat_minor": 2
}
