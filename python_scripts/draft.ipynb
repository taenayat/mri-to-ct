{
 "cells": [
  {
   "cell_type": "code",
   "execution_count": 1,
   "metadata": {},
   "outputs": [],
   "source": [
    "import pandas as pd"
   ]
  },
  {
   "cell_type": "code",
   "execution_count": 2,
   "metadata": {},
   "outputs": [],
   "source": [
    "metrics_df = pd.read_csv('metrics.csv')"
   ]
  },
  {
   "cell_type": "code",
   "execution_count": 34,
   "metadata": {},
   "outputs": [],
   "source": [
    "avg_df = metrics_df.mean(axis=0).to_frame().T.drop(['Unnamed: 0'], axis=1)\n",
    "avg_df.insert(0,'exp_name', 'name1_avg')\n",
    "std_df = metrics_df.std(axis=0).to_frame().T.drop(['Unnamed: 0'], axis=1)\n",
    "std_df.insert(0,'exp_name', 'name1_std')"
   ]
  },
  {
   "cell_type": "code",
   "execution_count": 36,
   "metadata": {},
   "outputs": [
    {
     "data": {
      "text/html": [
       "<div>\n",
       "<style scoped>\n",
       "    .dataframe tbody tr th:only-of-type {\n",
       "        vertical-align: middle;\n",
       "    }\n",
       "\n",
       "    .dataframe tbody tr th {\n",
       "        vertical-align: top;\n",
       "    }\n",
       "\n",
       "    .dataframe thead th {\n",
       "        text-align: right;\n",
       "    }\n",
       "</style>\n",
       "<table border=\"1\" class=\"dataframe\">\n",
       "  <thead>\n",
       "    <tr style=\"text-align: right;\">\n",
       "      <th></th>\n",
       "      <th>exp_name</th>\n",
       "      <th>ssim</th>\n",
       "      <th>mse</th>\n",
       "      <th>nmse</th>\n",
       "      <th>psnr</th>\n",
       "      <th>mae</th>\n",
       "      <th>ssim_clean_mask</th>\n",
       "      <th>mse_clean_mask</th>\n",
       "      <th>nmse_clean_mask</th>\n",
       "      <th>psnr_clean_mask</th>\n",
       "      <th>mae_clean_mask</th>\n",
       "    </tr>\n",
       "  </thead>\n",
       "  <tbody>\n",
       "    <tr>\n",
       "      <th>0</th>\n",
       "      <td>name1_avg</td>\n",
       "      <td>0.664477</td>\n",
       "      <td>140407.458333</td>\n",
       "      <td>0.197031</td>\n",
       "      <td>16.623840</td>\n",
       "      <td>157.063985</td>\n",
       "      <td>0.697088</td>\n",
       "      <td>268700.751042</td>\n",
       "      <td>0.628904</td>\n",
       "      <td>16.902803</td>\n",
       "      <td>281.670938</td>\n",
       "    </tr>\n",
       "    <tr>\n",
       "      <th>1</th>\n",
       "      <td>name1_std</td>\n",
       "      <td>0.065627</td>\n",
       "      <td>33043.192383</td>\n",
       "      <td>0.047933</td>\n",
       "      <td>3.160755</td>\n",
       "      <td>22.023725</td>\n",
       "      <td>0.058382</td>\n",
       "      <td>67570.962316</td>\n",
       "      <td>0.118431</td>\n",
       "      <td>3.231879</td>\n",
       "      <td>34.342644</td>\n",
       "    </tr>\n",
       "  </tbody>\n",
       "</table>\n",
       "</div>"
      ],
      "text/plain": [
       "    exp_name      ssim            mse      nmse       psnr         mae  \\\n",
       "0  name1_avg  0.664477  140407.458333  0.197031  16.623840  157.063985   \n",
       "1  name1_std  0.065627   33043.192383  0.047933   3.160755   22.023725   \n",
       "\n",
       "   ssim_clean_mask  mse_clean_mask  nmse_clean_mask  psnr_clean_mask  \\\n",
       "0         0.697088   268700.751042         0.628904        16.902803   \n",
       "1         0.058382    67570.962316         0.118431         3.231879   \n",
       "\n",
       "   mae_clean_mask  \n",
       "0      281.670938  \n",
       "1       34.342644  "
      ]
     },
     "execution_count": 36,
     "metadata": {},
     "output_type": "execute_result"
    }
   ],
   "source": [
    "pd.concat((avg_df, std_df), ignore_index=True)\n",
    "\n"
   ]
  },
  {
   "cell_type": "code",
   "execution_count": 37,
   "metadata": {},
   "outputs": [],
   "source": [
    "avg_df = metrics_df.mean(axis=0).to_frame().T.drop(['Unnamed: 0'], axis=1)\n",
    "std_df = metrics_df.std(axis=0).to_frame().T.drop(['Unnamed: 0'], axis=1)"
   ]
  },
  {
   "cell_type": "code",
   "execution_count": 53,
   "metadata": {},
   "outputs": [
    {
     "data": {
      "text/html": [
       "<div>\n",
       "<style scoped>\n",
       "    .dataframe tbody tr th:only-of-type {\n",
       "        vertical-align: middle;\n",
       "    }\n",
       "\n",
       "    .dataframe tbody tr th {\n",
       "        vertical-align: top;\n",
       "    }\n",
       "\n",
       "    .dataframe thead th {\n",
       "        text-align: right;\n",
       "    }\n",
       "</style>\n",
       "<table border=\"1\" class=\"dataframe\">\n",
       "  <thead>\n",
       "    <tr style=\"text-align: right;\">\n",
       "      <th></th>\n",
       "      <th>ssim</th>\n",
       "      <th>mse</th>\n",
       "      <th>nmse</th>\n",
       "      <th>psnr</th>\n",
       "      <th>mae</th>\n",
       "      <th>ssim_clean_mask</th>\n",
       "      <th>mse_clean_mask</th>\n",
       "      <th>nmse_clean_mask</th>\n",
       "      <th>psnr_clean_mask</th>\n",
       "      <th>mae_clean_mask</th>\n",
       "    </tr>\n",
       "  </thead>\n",
       "  <tbody>\n",
       "    <tr>\n",
       "      <th>0</th>\n",
       "      <td>0.065627</td>\n",
       "      <td>33043.192383</td>\n",
       "      <td>0.047933</td>\n",
       "      <td>3.160755</td>\n",
       "      <td>22.023725</td>\n",
       "      <td>0.058382</td>\n",
       "      <td>67570.962316</td>\n",
       "      <td>0.118431</td>\n",
       "      <td>3.231879</td>\n",
       "      <td>34.342644</td>\n",
       "    </tr>\n",
       "  </tbody>\n",
       "</table>\n",
       "</div>"
      ],
      "text/plain": [
       "       ssim           mse      nmse      psnr        mae  ssim_clean_mask  \\\n",
       "0  0.065627  33043.192383  0.047933  3.160755  22.023725         0.058382   \n",
       "\n",
       "   mse_clean_mask  nmse_clean_mask  psnr_clean_mask  mae_clean_mask  \n",
       "0    67570.962316         0.118431         3.231879       34.342644  "
      ]
     },
     "execution_count": 53,
     "metadata": {},
     "output_type": "execute_result"
    }
   ],
   "source": [
    "std_df"
   ]
  },
  {
   "cell_type": "code",
   "execution_count": 51,
   "metadata": {},
   "outputs": [
    {
     "name": "stderr",
     "output_type": "stream",
     "text": [
      "/tmp/ipykernel_20511/2212710484.py:1: FutureWarning: Calling float on a single element Series is deprecated and will raise a TypeError in the future. Use float(ser.iloc[0]) instead\n",
      "  std_df.apply(lambda x: f\"{float(x):.1e}\").apply(lambda x: f\"{float(x)}\")\n",
      "/tmp/ipykernel_20511/2212710484.py:2: FutureWarning: Calling float on a single element Series is deprecated and will raise a TypeError in the future. Use float(ser.iloc[0]) instead\n",
      "  avg_df.apply(lambda x: f\"{float(x):.1e}\").apply(lambda x: f\"{float(x)}\")\n"
     ]
    },
    {
     "data": {
      "text/plain": [
       "ssim                   0.66\n",
       "mse                140000.0\n",
       "nmse                    0.2\n",
       "psnr                   17.0\n",
       "mae                   160.0\n",
       "ssim_clean_mask         0.7\n",
       "mse_clean_mask     270000.0\n",
       "nmse_clean_mask        0.63\n",
       "psnr_clean_mask        17.0\n",
       "mae_clean_mask        280.0\n",
       "dtype: object"
      ]
     },
     "execution_count": 51,
     "metadata": {},
     "output_type": "execute_result"
    }
   ],
   "source": [
    "std_df.apply(lambda x: f\"{float(x):.1e}\").apply(lambda x: f\"{float(x)}\")\n",
    "avg_df.apply(lambda x: f\"{float(x):.1e}\").apply(lambda x: f\"{float(x)}\")"
   ]
  },
  {
   "cell_type": "code",
   "execution_count": 54,
   "metadata": {},
   "outputs": [],
   "source": [
    "formatted_data = {col: f\"{avg:.2f} ± {std:.2f}\" for col, avg, std in zip(avg_df.columns, avg_df.iloc[0], std_df.iloc[0])}\n",
    "formatted_df = pd.DataFrame([formatted_data])"
   ]
  },
  {
   "cell_type": "code",
   "execution_count": 55,
   "metadata": {},
   "outputs": [
    {
     "data": {
      "text/plain": [
       "{'ssim': '0.66 ± 0.07',\n",
       " 'mse': '140407.46 ± 33043.19',\n",
       " 'nmse': '0.20 ± 0.05',\n",
       " 'psnr': '16.62 ± 3.16',\n",
       " 'mae': '157.06 ± 22.02',\n",
       " 'ssim_clean_mask': '0.70 ± 0.06',\n",
       " 'mse_clean_mask': '268700.75 ± 67570.96',\n",
       " 'nmse_clean_mask': '0.63 ± 0.12',\n",
       " 'psnr_clean_mask': '16.90 ± 3.23',\n",
       " 'mae_clean_mask': '281.67 ± 34.34'}"
      ]
     },
     "execution_count": 55,
     "metadata": {},
     "output_type": "execute_result"
    }
   ],
   "source": [
    "formatted_data"
   ]
  },
  {
   "cell_type": "code",
   "execution_count": 4,
   "metadata": {},
   "outputs": [],
   "source": [
    "import numpy as np\n",
    "std_df = metrics_df.std(axis=0).to_frame().T.drop(['Unnamed: 0'], axis=1)\n",
    "n = len(metrics_df)\n",
    "critical_value = 2.042\n",
    "confidence_interval = critical_value * std_df / np.sqrt(n)"
   ]
  },
  {
   "cell_type": "code",
   "execution_count": 5,
   "metadata": {},
   "outputs": [
    {
     "data": {
      "text/html": [
       "<div>\n",
       "<style scoped>\n",
       "    .dataframe tbody tr th:only-of-type {\n",
       "        vertical-align: middle;\n",
       "    }\n",
       "\n",
       "    .dataframe tbody tr th {\n",
       "        vertical-align: top;\n",
       "    }\n",
       "\n",
       "    .dataframe thead th {\n",
       "        text-align: right;\n",
       "    }\n",
       "</style>\n",
       "<table border=\"1\" class=\"dataframe\">\n",
       "  <thead>\n",
       "    <tr style=\"text-align: right;\">\n",
       "      <th></th>\n",
       "      <th>ssim</th>\n",
       "      <th>mse</th>\n",
       "      <th>nmse</th>\n",
       "      <th>psnr</th>\n",
       "      <th>mae</th>\n",
       "      <th>ssim_clean_mask</th>\n",
       "      <th>mse_clean_mask</th>\n",
       "      <th>nmse_clean_mask</th>\n",
       "      <th>psnr_clean_mask</th>\n",
       "      <th>mae_clean_mask</th>\n",
       "    </tr>\n",
       "  </thead>\n",
       "  <tbody>\n",
       "    <tr>\n",
       "      <th>0</th>\n",
       "      <td>0.077371</td>\n",
       "      <td>38956.246867</td>\n",
       "      <td>0.056511</td>\n",
       "      <td>3.72637</td>\n",
       "      <td>25.964855</td>\n",
       "      <td>0.068829</td>\n",
       "      <td>79662.735323</td>\n",
       "      <td>0.139624</td>\n",
       "      <td>3.810221</td>\n",
       "      <td>40.488234</td>\n",
       "    </tr>\n",
       "  </tbody>\n",
       "</table>\n",
       "</div>"
      ],
      "text/plain": [
       "       ssim           mse      nmse     psnr        mae  ssim_clean_mask  \\\n",
       "0  0.077371  38956.246867  0.056511  3.72637  25.964855         0.068829   \n",
       "\n",
       "   mse_clean_mask  nmse_clean_mask  psnr_clean_mask  mae_clean_mask  \n",
       "0    79662.735323         0.139624         3.810221       40.488234  "
      ]
     },
     "execution_count": 5,
     "metadata": {},
     "output_type": "execute_result"
    }
   ],
   "source": [
    "confidence_interval"
   ]
  },
  {
   "cell_type": "code",
   "execution_count": 6,
   "metadata": {},
   "outputs": [
    {
     "data": {
      "text/html": [
       "<div>\n",
       "<style scoped>\n",
       "    .dataframe tbody tr th:only-of-type {\n",
       "        vertical-align: middle;\n",
       "    }\n",
       "\n",
       "    .dataframe tbody tr th {\n",
       "        vertical-align: top;\n",
       "    }\n",
       "\n",
       "    .dataframe thead th {\n",
       "        text-align: right;\n",
       "    }\n",
       "</style>\n",
       "<table border=\"1\" class=\"dataframe\">\n",
       "  <thead>\n",
       "    <tr style=\"text-align: right;\">\n",
       "      <th></th>\n",
       "      <th>ssim</th>\n",
       "      <th>mse</th>\n",
       "      <th>nmse</th>\n",
       "      <th>psnr</th>\n",
       "      <th>mae</th>\n",
       "      <th>ssim_clean_mask</th>\n",
       "      <th>mse_clean_mask</th>\n",
       "      <th>nmse_clean_mask</th>\n",
       "      <th>psnr_clean_mask</th>\n",
       "      <th>mae_clean_mask</th>\n",
       "    </tr>\n",
       "  </thead>\n",
       "  <tbody>\n",
       "    <tr>\n",
       "      <th>0</th>\n",
       "      <td>0.065627</td>\n",
       "      <td>33043.192383</td>\n",
       "      <td>0.047933</td>\n",
       "      <td>3.160755</td>\n",
       "      <td>22.023725</td>\n",
       "      <td>0.058382</td>\n",
       "      <td>67570.962316</td>\n",
       "      <td>0.118431</td>\n",
       "      <td>3.231879</td>\n",
       "      <td>34.342644</td>\n",
       "    </tr>\n",
       "  </tbody>\n",
       "</table>\n",
       "</div>"
      ],
      "text/plain": [
       "       ssim           mse      nmse      psnr        mae  ssim_clean_mask  \\\n",
       "0  0.065627  33043.192383  0.047933  3.160755  22.023725         0.058382   \n",
       "\n",
       "   mse_clean_mask  nmse_clean_mask  psnr_clean_mask  mae_clean_mask  \n",
       "0    67570.962316         0.118431         3.231879       34.342644  "
      ]
     },
     "execution_count": 6,
     "metadata": {},
     "output_type": "execute_result"
    }
   ],
   "source": [
    "std_df"
   ]
  },
  {
   "cell_type": "code",
   "execution_count": null,
   "metadata": {},
   "outputs": [],
   "source": []
  }
 ],
 "metadata": {
  "kernelspec": {
   "display_name": "venv",
   "language": "python",
   "name": "python3"
  },
  "language_info": {
   "codemirror_mode": {
    "name": "ipython",
    "version": 3
   },
   "file_extension": ".py",
   "mimetype": "text/x-python",
   "name": "python",
   "nbconvert_exporter": "python",
   "pygments_lexer": "ipython3",
   "version": "3.8.10"
  }
 },
 "nbformat": 4,
 "nbformat_minor": 2
}
