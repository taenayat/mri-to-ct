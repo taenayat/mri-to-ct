{
 "cells": [
  {
   "cell_type": "code",
   "execution_count": 13,
   "metadata": {},
   "outputs": [],
   "source": [
    "import numpy as np\n",
    "import matplotlib.pyplot as plt\n",
    "import os\n",
    "import SimpleITK as sitk\n",
    "\n",
    "DATA_PARENT_DIR = '/home/taha/Downloads/Panacea/Task1/brain/'\n",
    "iterable_dir_list = sorted(os.listdir(DATA_PARENT_DIR), key=lambda x: x)\n",
    "dataset_parent_dir = [os.path.join(DATA_PARENT_DIR, mri_path) for mri_path in iterable_dir_list]\n",
    "\n",
    "def read_img(idx):\n",
    "    return sitk.GetArrayFromImage(sitk.ReadImage(os.path.join(dataset_parent_dir[idx],'mr.nii.gz')))\n",
    "    # return sitk.GetArrayFromImage(sitk.ReadImage(os.path.join(dataset_parent_dir[idx],'ct.nii.gz')))"
   ]
  },
  {
   "cell_type": "code",
   "execution_count": 14,
   "metadata": {},
   "outputs": [],
   "source": [
    "min_values = [1000,1000,1000]\n",
    "max_values = [0,0,0]\n",
    "for idx in range(len(dataset_parent_dir)):\n",
    "    img = read_img(idx)\n",
    "    shape = img.shape\n",
    "    # print(min_values, shape)\n",
    "    for i in range(3):\n",
    "        if shape[i] < min_values[i]:\n",
    "            min_values[i] = shape[i]\n",
    "        if shape[i] > max_values[i]:\n",
    "            max_values[i] = shape[i]"
   ]
  },
  {
   "cell_type": "code",
   "execution_count": 15,
   "metadata": {},
   "outputs": [
    {
     "name": "stdout",
     "output_type": "stream",
     "text": [
      "min: [164, 224, 173]\n",
      "max: [262, 284, 280]\n"
     ]
    }
   ],
   "source": [
    "# MRI\n",
    "print(\"min:\", min_values)\n",
    "print('max:', max_values)"
   ]
  },
  {
   "cell_type": "code",
   "execution_count": 2,
   "metadata": {},
   "outputs": [],
   "source": [
    "min_values = [1000,1000,1000]\n",
    "max_values = [0,0,0]\n",
    "for idx in range(len(dataset_parent_dir)):\n",
    "    img = read_img(idx)\n",
    "    shape = img.shape\n",
    "    for i,m,sh in zip(range(3),min_values,shape):\n",
    "        if m > sh: min_values[i] = sh\n",
    "        if m < sh: max_values[i] = sh"
   ]
  },
  {
   "cell_type": "code",
   "execution_count": 12,
   "metadata": {},
   "outputs": [
    {
     "name": "stdout",
     "output_type": "stream",
     "text": [
      "min: [164, 224, 173]\n",
      "max: [262, 284, 280]\n"
     ]
    }
   ],
   "source": [
    "# CT\n",
    "print(\"min:\", min_values)\n",
    "print('max:', max_values)"
   ]
  },
  {
   "cell_type": "code",
   "execution_count": 5,
   "metadata": {},
   "outputs": [],
   "source": [
    "import numpy as np\n",
    "import matplotlib.pyplot as plt\n",
    "import os\n",
    "import SimpleITK as sitk\n",
    "\n",
    "DATA_PARENT_DIR = '/home/taha/Downloads/Panacea/dataset/VAL/MRI'\n",
    "iterable_dir_list = sorted(os.listdir(DATA_PARENT_DIR), key=lambda x: x)\n",
    "dataset_parent_dir = [os.path.join(DATA_PARENT_DIR, mri_path) for mri_path in iterable_dir_list]\n",
    "\n",
    "def read_img(idx):\n",
    "    return sitk.GetArrayFromImage(sitk.ReadImage(dataset_parent_dir[idx]))\n",
    "    # return sitk.GetArrayFromImage(sitk.ReadImage(os.path.join(dataset_parent_dir[idx],'ct.nii.gz')))"
   ]
  },
  {
   "cell_type": "code",
   "execution_count": 9,
   "metadata": {},
   "outputs": [
    {
     "name": "stdout",
     "output_type": "stream",
     "text": [
      "val dataset size:\n",
      "min: [174, 227, 173]\n",
      "max: [240, 284, 243]\n"
     ]
    }
   ],
   "source": [
    "min_values = [1000,1000,1000]\n",
    "max_values = [0,0,0]\n",
    "for idx in range(len(dataset_parent_dir)):\n",
    "    img = read_img(idx)\n",
    "    shape = img.shape\n",
    "    for i in range(3):\n",
    "        if shape[i] < min_values[i]:\n",
    "            min_values[i] = shape[i]\n",
    "        if shape[i] > max_values[i]:\n",
    "            max_values[i] = shape[i]\n",
    "print('val dataset size:')\n",
    "print(\"min:\", min_values)\n",
    "print('max:', max_values)"
   ]
  },
  {
   "cell_type": "code",
   "execution_count": 8,
   "metadata": {},
   "outputs": [
    {
     "name": "stdout",
     "output_type": "stream",
     "text": [
      "(231, 263, 218)\n",
      "torch.Size([231, 263, 218])\n"
     ]
    }
   ],
   "source": [
    "import torch\n",
    "import numpy as np\n",
    "\n",
    "np_image = read_img(9)\n",
    "print(np_image.shape)\n",
    "torch_tensor = torch.Tensor(np_image)\n",
    "print(torch_tensor.shape)"
   ]
  },
  {
   "cell_type": "markdown",
   "metadata": {},
   "source": [
    "24_12_09_pix2pix,0.85 ± 0.01,25334.81 ± 3148.47,0.04 ± 0.01,24.75 ± 0.63,54.03 ± 4.42,0.88 ± 0.00,40804.32 ± 2815.26,0.11 ± 0.01,25.93 ± 0.55,93.39 ± 3.26"
   ]
  }
 ],
 "metadata": {
  "kernelspec": {
   "display_name": "venv",
   "language": "python",
   "name": "python3"
  },
  "language_info": {
   "codemirror_mode": {
    "name": "ipython",
    "version": 3
   },
   "file_extension": ".py",
   "mimetype": "text/x-python",
   "name": "python",
   "nbconvert_exporter": "python",
   "pygments_lexer": "ipython3",
   "version": "3.8.10"
  }
 },
 "nbformat": 4,
 "nbformat_minor": 2
}
